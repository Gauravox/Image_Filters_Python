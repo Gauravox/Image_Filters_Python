{
  "metadata": {
    "kernelspec": {
      "name": "python",
      "display_name": "Python (Pyodide)",
      "language": "python"
    },
    "language_info": {
      "codemirror_mode": {
        "name": "python",
        "version": 3
      },
      "file_extension": ".py",
      "mimetype": "text/x-python",
      "name": "python",
      "nbconvert_exporter": "python",
      "pygments_lexer": "ipython3",
      "version": "3.8"
    }
  },
  "nbformat_minor": 4,
  "nbformat": 4,
  "cells": [
    {
      "cell_type": "code",
      "source": "# # #Applying Filters through Python bassicly in this i use Library CV2 that is published \n# by op[en cv whih is used to read and fatch the image \n# # and i'll using gammma and log transformation to aplly high \n# # contrast filters the main purpose of gamma is when e increase the gamma value so the \n# # is also got incresed like in 0.1<0.5<1.2<2.2",
      "metadata": {
        "trusted": true
      },
      "outputs": [],
      "execution_count": null
    },
    {
      "cell_type": "code",
      "source": "import cv2 \nimport numpy as np ",
      "metadata": {
        "trusted": true
      },
      "outputs": [],
      "execution_count": 1
    },
    {
      "cell_type": "code",
      "source": "\n# Open the image. \nimg = cv2.imread('gamer-gaming-room-5120x2880-17525.jpg') \n\n# Apply log transform. \nc = 255/(np.log(1 + np.max(img))) \nlog_transformed = c * np.log(1 + img) \n\n# Specify the data type. \nlog_transformed = np.array(log_transformed, dtype = np.uint8) \n\n# Save the output. \ncv2.imwrite('log_transformed.jpg', log_transformed) \n",
      "metadata": {
        "trusted": true
      },
      "outputs": [
        {
          "execution_count": 2,
          "output_type": "execute_result",
          "data": {
            "text/plain": "True"
          },
          "metadata": {}
        }
      ],
      "execution_count": 2
    },
    {
      "cell_type": "code",
      "source": "# Open the image. \nimg = cv2.imread('gamer-gaming-room-5120x2880-17525.jpg') \n  \n# Trying 4 gamma values. \nfor gamma in [0.1, 0.5, 1.2, 2.2]: \n      \n    # Apply gamma correction. \n    gamma_corrected = np.array(255*(img / 255) ** gamma, dtype = 'uint8') \n  \n    # Save edited images. \n    cv2.imwrite('gamma_transformed'+str(gamma)+'.jpg', gamma_corrected) ",
      "metadata": {
        "trusted": true
      },
      "outputs": [],
      "execution_count": 3
    },
    {
      "cell_type": "code",
      "source": "# Function to map each intensity level to output intensity level. \ndef pixelVal(pix, r1, s1, r2, s2): \n    if (0 <= pix and pix <= r1): \n        return (s1 / r1)*pix \n    elif (r1 < pix and pix <= r2): \n        return ((s2 - s1)/(r2 - r1)) * (pix - r1) + s1 \n    else: \n        return ((255 - s2)/(255 - r2)) * (pix - r2) + s2 \n  \n# Open the image. \nimg = cv2.imread('gamer-gaming-room-5120x2880-17525.jpg') \n  \n# Define parameters. \nr1 = 70\ns1 = 0\nr2 = 140\ns2 = 255\n  \n# Vectorize the function to apply it to each value in the Numpy array. \npixelVal_vec = np.vectorize(pixelVal) \n  \n# Apply contrast stretching. \ncontrast_stretched = pixelVal_vec(img, r1, s1, r2, s2) \n  \n# Save edited image. \ncv2.imwrite('contrast_stretch.jpg', contrast_stretched) ",
      "metadata": {
        "trusted": true
      },
      "outputs": [
        {
          "execution_count": 4,
          "output_type": "execute_result",
          "data": {
            "text/plain": "True"
          },
          "metadata": {}
        }
      ],
      "execution_count": 4
    },
    {
      "cell_type": "code",
      "source": "",
      "metadata": {
        "trusted": true
      },
      "outputs": [],
      "execution_count": null
    }
  ]
}